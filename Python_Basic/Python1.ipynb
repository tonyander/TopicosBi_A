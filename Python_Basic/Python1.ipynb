{
 "cells": [
  {
   "cell_type": "markdown",
   "id": "d955b712",
   "metadata": {},
   "source": [
    "# Python for big data \n",
    "\n",
    "1. Variable\n",
    "2. String \n",
    "3. Function print \n",
    "4. Booleanos y Condicionales\n",
    "5. Loops\n",
    "6. Funcions \n",
    "7. Manejo Excepciones"
   ]
  },
  {
   "cell_type": "code",
   "execution_count": null,
   "id": "c83bf6db",
   "metadata": {},
   "outputs": [],
   "source": [
    "monto_deuda = 1000\n",
    "moneda= \"soles\"\n"
   ]
  },
  {
   "cell_type": "markdown",
   "id": "de157ce7",
   "metadata": {},
   "source": [
    "monto_deuda = 1000\n",
    "moneda = soles"
   ]
  },
  {
   "cell_type": "code",
   "execution_count": null,
   "id": "1c555bbc",
   "metadata": {},
   "outputs": [],
   "source": [
    "monto_interes = int(input (\"ingresar el interes\"))\n"
   ]
  },
  {
   "cell_type": "markdown",
   "id": "ab17946c",
   "metadata": {},
   "source": [
    "monto_interes = int(input (\"ingresar el interes\"))\n"
   ]
  },
  {
   "cell_type": "markdown",
   "id": "c3fe43fe",
   "metadata": {},
   "source": [
    "##String "
   ]
  },
  {
   "cell_type": "code",
   "execution_count": 1,
   "id": "aa191ba2",
   "metadata": {},
   "outputs": [
    {
     "data": {
      "text/plain": [
       "'hola'"
      ]
     },
     "execution_count": 1,
     "metadata": {},
     "output_type": "execute_result"
    }
   ],
   "source": [
    "# concatenar\n",
    "'ho'+'la'\n",
    "\n"
   ]
  },
  {
   "cell_type": "code",
   "execution_count": 2,
   "id": "0e0adcfd",
   "metadata": {},
   "outputs": [],
   "source": [
    "#comillas simples o dobles\n",
    "text_1 = \"mi primer mensaje\"\n",
    "text_2 = 'mi segundo mensaje'"
   ]
  },
  {
   "cell_type": "code",
   "execution_count": 3,
   "id": "f127a547",
   "metadata": {},
   "outputs": [
    {
     "data": {
      "text/plain": [
       "'mi primer mensaje'"
      ]
     },
     "execution_count": 3,
     "metadata": {},
     "output_type": "execute_result"
    }
   ],
   "source": [
    "text_1"
   ]
  },
  {
   "cell_type": "code",
   "execution_count": 4,
   "id": "73921137",
   "metadata": {},
   "outputs": [
    {
     "data": {
      "text/plain": [
       "'mi segundo mensaje'"
      ]
     },
     "execution_count": 4,
     "metadata": {},
     "output_type": "execute_result"
    }
   ],
   "source": [
    "text_2"
   ]
  },
  {
   "cell_type": "code",
   "execution_count": 6,
   "id": "3b1f91d9",
   "metadata": {},
   "outputs": [
    {
     "ename": "NameError",
     "evalue": "name 'PRINT' is not defined",
     "output_type": "error",
     "traceback": [
      "\u001b[31m---------------------------------------------------------------------------\u001b[39m",
      "\u001b[31mNameError\u001b[39m                                 Traceback (most recent call last)",
      "\u001b[36mCell\u001b[39m\u001b[36m \u001b[39m\u001b[32mIn[6]\u001b[39m\u001b[32m, line 7\u001b[39m\n\u001b[32m      1\u001b[39m \u001b[38;5;66;03m#comillas triples \u001b[39;00m\n\u001b[32m      2\u001b[39m consulta = \u001b[33m\"\"\"\u001b[39m\n\u001b[32m      3\u001b[39m \u001b[33mSELECT * FROM USERS\u001b[39m\n\u001b[32m      4\u001b[39m \u001b[33mWHERE ID= 8\u001b[39m\n\u001b[32m      5\u001b[39m \u001b[33mGROUP BY ADMIN\u001b[39m\n\u001b[32m      6\u001b[39m \u001b[33m\"\"\"\u001b[39m\n\u001b[32m----> \u001b[39m\u001b[32m7\u001b[39m \u001b[43mPRINT\u001b[49m (consulta)\n",
      "\u001b[31mNameError\u001b[39m: name 'PRINT' is not defined"
     ]
    }
   ],
   "source": [
    "#comillas triples \n",
    "consulta = \"\"\"\n",
    "SELECT * FROM USERS\n",
    "WHERE ID= 8\n",
    "GROUP BY ADMIN\n",
    "\"\"\"\n",
    "PRINT (consulta)"
   ]
  },
  {
   "cell_type": "code",
   "execution_count": 7,
   "id": "45104442",
   "metadata": {},
   "outputs": [],
   "source": [
    "#operaciones con String\n",
    "cadena_1= 'hola mundo'\n",
    "cadena_2= \"5\"\n",
    "cadena_3= 'CINCO'"
   ]
  },
  {
   "cell_type": "code",
   "execution_count": 8,
   "id": "45febfca",
   "metadata": {},
   "outputs": [
    {
     "data": {
      "text/plain": [
       "'Hola Mundo'"
      ]
     },
     "execution_count": 8,
     "metadata": {},
     "output_type": "execute_result"
    }
   ],
   "source": [
    "cadena_1.title()\n"
   ]
  },
  {
   "cell_type": "code",
   "execution_count": 9,
   "id": "64c2e2c9",
   "metadata": {},
   "outputs": [
    {
     "data": {
      "text/plain": [
       "['hola', 'mundo']"
      ]
     },
     "execution_count": 9,
     "metadata": {},
     "output_type": "execute_result"
    }
   ],
   "source": [
    "cadena_1.split()"
   ]
  },
  {
   "cell_type": "code",
   "execution_count": 10,
   "id": "0c6c7796",
   "metadata": {},
   "outputs": [
    {
     "data": {
      "text/plain": [
       "2"
      ]
     },
     "execution_count": 10,
     "metadata": {},
     "output_type": "execute_result"
    }
   ],
   "source": [
    "cadena_1.count('o')"
   ]
  },
  {
   "cell_type": "code",
   "execution_count": 11,
   "id": "a2e0cf39",
   "metadata": {},
   "outputs": [
    {
     "data": {
      "text/plain": [
       "['h', 'la mund', '']"
      ]
     },
     "execution_count": 11,
     "metadata": {},
     "output_type": "execute_result"
    }
   ],
   "source": [
    "#quitar letra de String\n",
    "cadena_1.split('o')\n"
   ]
  },
  {
   "cell_type": "code",
   "execution_count": 12,
   "id": "89f20db8",
   "metadata": {},
   "outputs": [
    {
     "data": {
      "text/plain": [
       "'hola mundo'"
      ]
     },
     "execution_count": 12,
     "metadata": {},
     "output_type": "execute_result"
    }
   ],
   "source": [
    "#limpiando extremo de string\n",
    "cadena_4= '(hola mundo) '\n",
    "cadena_4.strip('() ')\n"
   ]
  },
  {
   "cell_type": "code",
   "execution_count": 15,
   "id": "4e121536",
   "metadata": {},
   "outputs": [
    {
     "data": {
      "text/plain": [
       "'hola hi!'"
      ]
     },
     "execution_count": 15,
     "metadata": {},
     "output_type": "execute_result"
    }
   ],
   "source": [
    "#reemplazar String\n",
    "cadena_5 = 'hola mundo'\n",
    "cadena_5.replace('mundo','hi!')"
   ]
  }
 ],
 "metadata": {
  "kernelspec": {
   "display_name": "myenv",
   "language": "python",
   "name": "python3"
  },
  "language_info": {
   "codemirror_mode": {
    "name": "ipython",
    "version": 3
   },
   "file_extension": ".py",
   "mimetype": "text/x-python",
   "name": "python",
   "nbconvert_exporter": "python",
   "pygments_lexer": "ipython3",
   "version": "3.13.7"
  }
 },
 "nbformat": 4,
 "nbformat_minor": 5
}
