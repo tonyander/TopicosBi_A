{
 "cells": [
  {
   "cell_type": "markdown",
   "id": "d955b712",
   "metadata": {},
   "source": [
    "# Python for big data \n",
    "\n",
    "1. Variable\n",
    "2. String \n",
    "3. Function print \n",
    "4. Booleanos y Condicionales\n",
    "5. Loops\n",
    "6. Funcions \n",
    "7. Manejo Excepciones"
   ]
  },
  {
   "cell_type": "code",
   "execution_count": null,
   "id": "c83bf6db",
   "metadata": {},
   "outputs": [],
   "source": [
    "monto_deuda = 1000\n",
    "moneda= \"soles\"\n"
   ]
  },
  {
   "cell_type": "markdown",
   "id": "de157ce7",
   "metadata": {},
   "source": [
    "monto_deuda = 1000\n",
    "moneda = soles"
   ]
  },
  {
   "cell_type": "code",
   "execution_count": null,
   "id": "1c555bbc",
   "metadata": {},
   "outputs": [],
   "source": [
    "monto_interes = int(input (\"ingresar el interes\"))\n"
   ]
  },
  {
   "cell_type": "markdown",
   "id": "ab17946c",
   "metadata": {},
   "source": [
    "monto_interes = int(input (\"ingresar el interes\"))\n"
   ]
  },
  {
   "cell_type": "markdown",
   "id": "c3fe43fe",
   "metadata": {},
   "source": [
    "##String "
   ]
  }
 ],
 "metadata": {
  "kernelspec": {
   "display_name": "myenv",
   "language": "python",
   "name": "python3"
  },
  "language_info": {
   "codemirror_mode": {
    "name": "ipython",
    "version": 3
   },
   "file_extension": ".py",
   "mimetype": "text/x-python",
   "name": "python",
   "nbconvert_exporter": "python",
   "pygments_lexer": "ipython3",
   "version": "3.13.7"
  }
 },
 "nbformat": 4,
 "nbformat_minor": 5
}
